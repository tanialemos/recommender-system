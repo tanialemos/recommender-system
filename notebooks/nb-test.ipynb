{
 "cells": [
  {
   "cell_type": "markdown",
   "metadata": {},
   "source": [
    "# Recommendation system"
   ]
  },
  {
   "cell_type": "markdown",
   "metadata": {},
   "source": [
    "## Imports and db connection"
   ]
  },
  {
   "cell_type": "code",
   "execution_count": 1,
   "metadata": {},
   "outputs": [],
   "source": [
    "import sqlite3\n",
    "from sklearn.feature_extraction.text import CountVectorizer\n",
    "from sklearn.metrics.pairwise import linear_kernel\n",
    "import pandas as pd\n",
    "import numpy as np\n",
    "#import streamlit as st\n",
    "import time\n",
    "import matplotlib.pyplot as plt"
   ]
  },
  {
   "cell_type": "code",
   "execution_count": 2,
   "metadata": {},
   "outputs": [],
   "source": [
    "connexion = sqlite3.connect(\"../database/imdb/imdb.db\")\n",
    "cursor = connexion.cursor()"
   ]
  },
  {
   "cell_type": "code",
   "execution_count": 3,
   "metadata": {},
   "outputs": [],
   "source": [
    "# creating dataframe for movie details table\n",
    "cursor.execute(\"\"\"\n",
    "    SELECT tb.tconst, tb.primaryTitle, tb.genres, tc.directors, tr.averageRating, tr.numVotes\n",
    "    FROM title_basics tb, title_crew tc, title_ratings tr \n",
    "    ON tb.tconst = tc.tconst AND tb.tconst = tr.tconst\n",
    "    where tb.isAdult = 0 and tb.titleType = 'movie'\n",
    "\"\"\")\n",
    "data = cursor.fetchall()\n",
    "col = [description[0] for description in cursor.description]\n",
    "\n",
    "df_movies = pd.DataFrame.from_records(data=data, columns=col)"
   ]
  },
  {
   "cell_type": "code",
   "execution_count": 4,
   "metadata": {},
   "outputs": [],
   "source": [
    "# creating dataframe for actors details table\n",
    "cursor.execute(\"\"\"\n",
    "    SELECT tp.tconst, tp.nconst\n",
    "    FROM title_principals tp\n",
    "    WHERE tp.category = 'actor' or tp.category = 'actress'\n",
    "\"\"\")\n",
    "data = cursor.fetchall()\n",
    "col = [description[0] for description in cursor.description]\n",
    "\n",
    "df_actors = pd.DataFrame.from_records(data=data, columns=col)"
   ]
  },
  {
   "cell_type": "code",
   "execution_count": 5,
   "metadata": {},
   "outputs": [
    {
     "name": "stdout",
     "output_type": "stream",
     "text": [
      "movie df shape is : (219235, 6)\n",
      "actors df shape is : (20275166, 2)\n"
     ]
    }
   ],
   "source": [
    "print(f\"movie df shape is : {df_movies.shape}\")\n",
    "print(f\"actors df shape is : {df_actors.shape}\")"
   ]
  },
  {
   "cell_type": "code",
   "execution_count": 6,
   "metadata": {},
   "outputs": [
    {
     "data": {
      "text/html": [
       "<div>\n",
       "<style scoped>\n",
       "    .dataframe tbody tr th:only-of-type {\n",
       "        vertical-align: middle;\n",
       "    }\n",
       "\n",
       "    .dataframe tbody tr th {\n",
       "        vertical-align: top;\n",
       "    }\n",
       "\n",
       "    .dataframe thead th {\n",
       "        text-align: right;\n",
       "    }\n",
       "</style>\n",
       "<table border=\"1\" class=\"dataframe\">\n",
       "  <thead>\n",
       "    <tr style=\"text-align: right;\">\n",
       "      <th></th>\n",
       "      <th>tconst</th>\n",
       "      <th>nconst</th>\n",
       "    </tr>\n",
       "  </thead>\n",
       "  <tbody>\n",
       "    <tr>\n",
       "      <th>0</th>\n",
       "      <td>tt0000005</td>\n",
       "      <td>nm0443482</td>\n",
       "    </tr>\n",
       "    <tr>\n",
       "      <th>1</th>\n",
       "      <td>tt0000005</td>\n",
       "      <td>nm0653042</td>\n",
       "    </tr>\n",
       "    <tr>\n",
       "      <th>2</th>\n",
       "      <td>tt0000007</td>\n",
       "      <td>nm0179163</td>\n",
       "    </tr>\n",
       "    <tr>\n",
       "      <th>3</th>\n",
       "      <td>tt0000007</td>\n",
       "      <td>nm0183947</td>\n",
       "    </tr>\n",
       "    <tr>\n",
       "      <th>4</th>\n",
       "      <td>tt0000008</td>\n",
       "      <td>nm0653028</td>\n",
       "    </tr>\n",
       "  </tbody>\n",
       "</table>\n",
       "</div>"
      ],
      "text/plain": [
       "      tconst     nconst\n",
       "0  tt0000005  nm0443482\n",
       "1  tt0000005  nm0653042\n",
       "2  tt0000007  nm0179163\n",
       "3  tt0000007  nm0183947\n",
       "4  tt0000008  nm0653028"
      ]
     },
     "execution_count": 6,
     "metadata": {},
     "output_type": "execute_result"
    }
   ],
   "source": [
    "df_actors.head()"
   ]
  },
  {
   "cell_type": "code",
   "execution_count": 7,
   "metadata": {},
   "outputs": [
    {
     "data": {
      "text/html": [
       "<div>\n",
       "<style scoped>\n",
       "    .dataframe tbody tr th:only-of-type {\n",
       "        vertical-align: middle;\n",
       "    }\n",
       "\n",
       "    .dataframe tbody tr th {\n",
       "        vertical-align: top;\n",
       "    }\n",
       "\n",
       "    .dataframe thead th {\n",
       "        text-align: right;\n",
       "    }\n",
       "</style>\n",
       "<table border=\"1\" class=\"dataframe\">\n",
       "  <thead>\n",
       "    <tr style=\"text-align: right;\">\n",
       "      <th></th>\n",
       "      <th>tconst</th>\n",
       "      <th>nconst</th>\n",
       "    </tr>\n",
       "  </thead>\n",
       "  <tbody>\n",
       "    <tr>\n",
       "      <th>0</th>\n",
       "      <td>tt0000005</td>\n",
       "      <td>nm0443482,nm0653042</td>\n",
       "    </tr>\n",
       "    <tr>\n",
       "      <th>1</th>\n",
       "      <td>tt0000007</td>\n",
       "      <td>nm0179163,nm0183947</td>\n",
       "    </tr>\n",
       "    <tr>\n",
       "      <th>2</th>\n",
       "      <td>tt0000008</td>\n",
       "      <td>nm0653028</td>\n",
       "    </tr>\n",
       "    <tr>\n",
       "      <th>3</th>\n",
       "      <td>tt0000009</td>\n",
       "      <td>nm0063086,nm0183823,nm1309758</td>\n",
       "    </tr>\n",
       "    <tr>\n",
       "      <th>4</th>\n",
       "      <td>tt0000011</td>\n",
       "      <td>nm3692297</td>\n",
       "    </tr>\n",
       "  </tbody>\n",
       "</table>\n",
       "</div>"
      ],
      "text/plain": [
       "      tconst                         nconst\n",
       "0  tt0000005            nm0443482,nm0653042\n",
       "1  tt0000007            nm0179163,nm0183947\n",
       "2  tt0000008                      nm0653028\n",
       "3  tt0000009  nm0063086,nm0183823,nm1309758\n",
       "4  tt0000011                      nm3692297"
      ]
     },
     "execution_count": 7,
     "metadata": {},
     "output_type": "execute_result"
    }
   ],
   "source": [
    "# merge actors with same movie id in same column\n",
    "groupby = df_actors.groupby('tconst')['nconst'].apply(','.join).reset_index()\n",
    "groupby.head()"
   ]
  },
  {
   "cell_type": "code",
   "execution_count": 8,
   "metadata": {},
   "outputs": [
    {
     "data": {
      "text/plain": [
       "(219235, 7)"
      ]
     },
     "execution_count": 8,
     "metadata": {},
     "output_type": "execute_result"
    }
   ],
   "source": [
    "df = pd.merge(df_movies, groupby, how='left', on='tconst')\n",
    "df.shape"
   ]
  },
  {
   "cell_type": "code",
   "execution_count": 9,
   "metadata": {},
   "outputs": [],
   "source": [
    "df = df.drop('tconst', axis=1)\n",
    "df = df.rename(columns={\"nconst\": \"actors\"})"
   ]
  },
  {
   "cell_type": "code",
   "execution_count": 10,
   "metadata": {},
   "outputs": [
    {
     "data": {
      "text/html": [
       "<div>\n",
       "<style scoped>\n",
       "    .dataframe tbody tr th:only-of-type {\n",
       "        vertical-align: middle;\n",
       "    }\n",
       "\n",
       "    .dataframe tbody tr th {\n",
       "        vertical-align: top;\n",
       "    }\n",
       "\n",
       "    .dataframe thead th {\n",
       "        text-align: right;\n",
       "    }\n",
       "</style>\n",
       "<table border=\"1\" class=\"dataframe\">\n",
       "  <thead>\n",
       "    <tr style=\"text-align: right;\">\n",
       "      <th></th>\n",
       "      <th>primaryTitle</th>\n",
       "      <th>genres</th>\n",
       "      <th>directors</th>\n",
       "      <th>averageRating</th>\n",
       "      <th>numVotes</th>\n",
       "      <th>actors</th>\n",
       "    </tr>\n",
       "  </thead>\n",
       "  <tbody>\n",
       "    <tr>\n",
       "      <th>0</th>\n",
       "      <td>Miss Jerry</td>\n",
       "      <td>Romance</td>\n",
       "      <td>nm0085156</td>\n",
       "      <td>5.3</td>\n",
       "      <td>200</td>\n",
       "      <td>nm0063086,nm0183823,nm1309758</td>\n",
       "    </tr>\n",
       "    <tr>\n",
       "      <th>1</th>\n",
       "      <td>Bohemios</td>\n",
       "      <td>\\N</td>\n",
       "      <td>nm0063413</td>\n",
       "      <td>4.2</td>\n",
       "      <td>14</td>\n",
       "      <td>nm0215752,nm0252720</td>\n",
       "    </tr>\n",
       "    <tr>\n",
       "      <th>2</th>\n",
       "      <td>The Story of the Kelly Gang</td>\n",
       "      <td>Action,Adventure,Biography</td>\n",
       "      <td>nm0846879</td>\n",
       "      <td>6.0</td>\n",
       "      <td>797</td>\n",
       "      <td>nm0846887,nm0846894,nm1431224,nm3002376</td>\n",
       "    </tr>\n",
       "    <tr>\n",
       "      <th>3</th>\n",
       "      <td>The Prodigal Son</td>\n",
       "      <td>Drama</td>\n",
       "      <td>nm0141150</td>\n",
       "      <td>5.1</td>\n",
       "      <td>20</td>\n",
       "      <td>nm0906197,nm0332182,nm1323543,nm1759558</td>\n",
       "    </tr>\n",
       "    <tr>\n",
       "      <th>4</th>\n",
       "      <td>Robbery Under Arms</td>\n",
       "      <td>Drama</td>\n",
       "      <td>nm0533958</td>\n",
       "      <td>4.3</td>\n",
       "      <td>23</td>\n",
       "      <td>nm3071427,nm0581353,nm0888988,nm0240418,nm0346...</td>\n",
       "    </tr>\n",
       "  </tbody>\n",
       "</table>\n",
       "</div>"
      ],
      "text/plain": [
       "                  primaryTitle                      genres  directors  \\\n",
       "0                   Miss Jerry                     Romance  nm0085156   \n",
       "1                     Bohemios                          \\N  nm0063413   \n",
       "2  The Story of the Kelly Gang  Action,Adventure,Biography  nm0846879   \n",
       "3             The Prodigal Son                       Drama  nm0141150   \n",
       "4           Robbery Under Arms                       Drama  nm0533958   \n",
       "\n",
       "  averageRating numVotes                                             actors  \n",
       "0           5.3      200                      nm0063086,nm0183823,nm1309758  \n",
       "1           4.2       14                                nm0215752,nm0252720  \n",
       "2           6.0      797            nm0846887,nm0846894,nm1431224,nm3002376  \n",
       "3           5.1       20            nm0906197,nm0332182,nm1323543,nm1759558  \n",
       "4           4.3       23  nm3071427,nm0581353,nm0888988,nm0240418,nm0346...  "
      ]
     },
     "execution_count": 10,
     "metadata": {},
     "output_type": "execute_result"
    }
   ],
   "source": [
    "df.head()"
   ]
  },
  {
   "cell_type": "code",
   "execution_count": 11,
   "metadata": {},
   "outputs": [
    {
     "data": {
      "text/plain": [
       "primaryTitle         0\n",
       "genres               0\n",
       "directors            0\n",
       "averageRating        0\n",
       "numVotes             0\n",
       "actors           30587\n",
       "dtype: int64"
      ]
     },
     "execution_count": 11,
     "metadata": {},
     "output_type": "execute_result"
    }
   ],
   "source": [
    "df.isna().sum()"
   ]
  },
  {
   "cell_type": "markdown",
   "metadata": {},
   "source": [
    "## Exploratory analysis"
   ]
  },
  {
   "cell_type": "code",
   "execution_count": 12,
   "metadata": {},
   "outputs": [
    {
     "data": {
      "text/plain": [
       "primaryTitle     object\n",
       "genres           object\n",
       "directors        object\n",
       "averageRating    object\n",
       "numVotes         object\n",
       "actors           object\n",
       "dtype: object"
      ]
     },
     "execution_count": 12,
     "metadata": {},
     "output_type": "execute_result"
    }
   ],
   "source": [
    "df.dtypes"
   ]
  },
  {
   "cell_type": "code",
   "execution_count": 13,
   "metadata": {},
   "outputs": [],
   "source": [
    "# convert data types\n",
    "df['averageRating'] = df['averageRating'].astype(float)\n",
    "df['numVotes'] = df['numVotes'].astype(int)"
   ]
  },
  {
   "cell_type": "code",
   "execution_count": 14,
   "metadata": {},
   "outputs": [
    {
     "data": {
      "text/html": [
       "<div>\n",
       "<style scoped>\n",
       "    .dataframe tbody tr th:only-of-type {\n",
       "        vertical-align: middle;\n",
       "    }\n",
       "\n",
       "    .dataframe tbody tr th {\n",
       "        vertical-align: top;\n",
       "    }\n",
       "\n",
       "    .dataframe thead th {\n",
       "        text-align: right;\n",
       "    }\n",
       "</style>\n",
       "<table border=\"1\" class=\"dataframe\">\n",
       "  <thead>\n",
       "    <tr style=\"text-align: right;\">\n",
       "      <th></th>\n",
       "      <th>primaryTitle</th>\n",
       "      <th>genres</th>\n",
       "      <th>directors</th>\n",
       "      <th>averageRating</th>\n",
       "      <th>numVotes</th>\n",
       "      <th>actors</th>\n",
       "    </tr>\n",
       "  </thead>\n",
       "  <tbody>\n",
       "    <tr>\n",
       "      <th>0</th>\n",
       "      <td>Miss Jerry</td>\n",
       "      <td>Romance</td>\n",
       "      <td>nm0085156</td>\n",
       "      <td>5.3</td>\n",
       "      <td>200</td>\n",
       "      <td>nm0063086,nm0183823,nm1309758</td>\n",
       "    </tr>\n",
       "    <tr>\n",
       "      <th>2</th>\n",
       "      <td>The Story of the Kelly Gang</td>\n",
       "      <td>Action,Adventure,Biography</td>\n",
       "      <td>nm0846879</td>\n",
       "      <td>6.0</td>\n",
       "      <td>797</td>\n",
       "      <td>nm0846887,nm0846894,nm1431224,nm3002376</td>\n",
       "    </tr>\n",
       "    <tr>\n",
       "      <th>3</th>\n",
       "      <td>The Prodigal Son</td>\n",
       "      <td>Drama</td>\n",
       "      <td>nm0141150</td>\n",
       "      <td>5.1</td>\n",
       "      <td>20</td>\n",
       "      <td>nm0906197,nm0332182,nm1323543,nm1759558</td>\n",
       "    </tr>\n",
       "    <tr>\n",
       "      <th>7</th>\n",
       "      <td>The Fairylogue and Radio-Plays</td>\n",
       "      <td>Adventure,Fantasy</td>\n",
       "      <td>nm0091767,nm0877783</td>\n",
       "      <td>5.2</td>\n",
       "      <td>66</td>\n",
       "      <td>nm0000875,nm0122665,nm0933446,nm2924919</td>\n",
       "    </tr>\n",
       "    <tr>\n",
       "      <th>17</th>\n",
       "      <td>Amor gitano</td>\n",
       "      <td>\\N</td>\n",
       "      <td>nm0159015</td>\n",
       "      <td>5.1</td>\n",
       "      <td>16</td>\n",
       "      <td>NaN</td>\n",
       "    </tr>\n",
       "    <tr>\n",
       "      <th>...</th>\n",
       "      <td>...</td>\n",
       "      <td>...</td>\n",
       "      <td>...</td>\n",
       "      <td>...</td>\n",
       "      <td>...</td>\n",
       "      <td>...</td>\n",
       "    </tr>\n",
       "    <tr>\n",
       "      <th>219230</th>\n",
       "      <td>The Changin' Times of Ike White</td>\n",
       "      <td>Documentary,Music</td>\n",
       "      <td>nm1427130</td>\n",
       "      <td>6.7</td>\n",
       "      <td>216</td>\n",
       "      <td>NaN</td>\n",
       "    </tr>\n",
       "    <tr>\n",
       "      <th>219231</th>\n",
       "      <td>A Classic Tour of Scotland: Footloose Special</td>\n",
       "      <td>Documentary</td>\n",
       "      <td>nm1645815</td>\n",
       "      <td>7.0</td>\n",
       "      <td>6</td>\n",
       "      <td>nm1644256</td>\n",
       "    </tr>\n",
       "    <tr>\n",
       "      <th>219232</th>\n",
       "      <td>Manoharam</td>\n",
       "      <td>Comedy,Drama</td>\n",
       "      <td>nm7011994</td>\n",
       "      <td>6.8</td>\n",
       "      <td>831</td>\n",
       "      <td>nm2068971,nm10375007,nm7243877,nm1428724</td>\n",
       "    </tr>\n",
       "    <tr>\n",
       "      <th>219233</th>\n",
       "      <td>Footloose in the Cotswolds: Part 1</td>\n",
       "      <td>Documentary</td>\n",
       "      <td>nm1645815</td>\n",
       "      <td>7.0</td>\n",
       "      <td>10</td>\n",
       "      <td>nm1644256</td>\n",
       "    </tr>\n",
       "    <tr>\n",
       "      <th>219234</th>\n",
       "      <td>The Cursed</td>\n",
       "      <td>Fantasy,Horror,Mystery</td>\n",
       "      <td>nm1193346</td>\n",
       "      <td>6.2</td>\n",
       "      <td>11360</td>\n",
       "      <td>nm2933542,nm0717709,nm0677944,nm3646923</td>\n",
       "    </tr>\n",
       "  </tbody>\n",
       "</table>\n",
       "<p>180553 rows × 6 columns</p>\n",
       "</div>"
      ],
      "text/plain": [
       "                                         primaryTitle  \\\n",
       "0                                          Miss Jerry   \n",
       "2                         The Story of the Kelly Gang   \n",
       "3                                    The Prodigal Son   \n",
       "7                      The Fairylogue and Radio-Plays   \n",
       "17                                        Amor gitano   \n",
       "...                                               ...   \n",
       "219230                The Changin' Times of Ike White   \n",
       "219231  A Classic Tour of Scotland: Footloose Special   \n",
       "219232                                      Manoharam   \n",
       "219233             Footloose in the Cotswolds: Part 1   \n",
       "219234                                     The Cursed   \n",
       "\n",
       "                            genres            directors  averageRating  \\\n",
       "0                          Romance            nm0085156            5.3   \n",
       "2       Action,Adventure,Biography            nm0846879            6.0   \n",
       "3                            Drama            nm0141150            5.1   \n",
       "7                Adventure,Fantasy  nm0091767,nm0877783            5.2   \n",
       "17                              \\N            nm0159015            5.1   \n",
       "...                            ...                  ...            ...   \n",
       "219230           Documentary,Music            nm1427130            6.7   \n",
       "219231                 Documentary            nm1645815            7.0   \n",
       "219232                Comedy,Drama            nm7011994            6.8   \n",
       "219233                 Documentary            nm1645815            7.0   \n",
       "219234      Fantasy,Horror,Mystery            nm1193346            6.2   \n",
       "\n",
       "        numVotes                                    actors  \n",
       "0            200             nm0063086,nm0183823,nm1309758  \n",
       "2            797   nm0846887,nm0846894,nm1431224,nm3002376  \n",
       "3             20   nm0906197,nm0332182,nm1323543,nm1759558  \n",
       "7             66   nm0000875,nm0122665,nm0933446,nm2924919  \n",
       "17            16                                       NaN  \n",
       "...          ...                                       ...  \n",
       "219230       216                                       NaN  \n",
       "219231         6                                 nm1644256  \n",
       "219232       831  nm2068971,nm10375007,nm7243877,nm1428724  \n",
       "219233        10                                 nm1644256  \n",
       "219234     11360   nm2933542,nm0717709,nm0677944,nm3646923  \n",
       "\n",
       "[180553 rows x 6 columns]"
      ]
     },
     "execution_count": 14,
     "metadata": {},
     "output_type": "execute_result"
    }
   ],
   "source": [
    "# apply filters to reduce dataset\n",
    "df_above5 = df[df['averageRating'] >= 5.0]\n",
    "df_above5"
   ]
  },
  {
   "cell_type": "code",
   "execution_count": 15,
   "metadata": {},
   "outputs": [
    {
     "data": {
      "text/html": [
       "<div>\n",
       "<style scoped>\n",
       "    .dataframe tbody tr th:only-of-type {\n",
       "        vertical-align: middle;\n",
       "    }\n",
       "\n",
       "    .dataframe tbody tr th {\n",
       "        vertical-align: top;\n",
       "    }\n",
       "\n",
       "    .dataframe thead th {\n",
       "        text-align: right;\n",
       "    }\n",
       "</style>\n",
       "<table border=\"1\" class=\"dataframe\">\n",
       "  <thead>\n",
       "    <tr style=\"text-align: right;\">\n",
       "      <th></th>\n",
       "      <th>primaryTitle</th>\n",
       "      <th>genres</th>\n",
       "      <th>directors</th>\n",
       "      <th>averageRating</th>\n",
       "      <th>numVotes</th>\n",
       "      <th>actors</th>\n",
       "    </tr>\n",
       "  </thead>\n",
       "  <tbody>\n",
       "    <tr>\n",
       "      <th>2</th>\n",
       "      <td>The Story of the Kelly Gang</td>\n",
       "      <td>Action,Adventure,Biography</td>\n",
       "      <td>nm0846879</td>\n",
       "      <td>6.0</td>\n",
       "      <td>797</td>\n",
       "      <td>nm0846887,nm0846894,nm1431224,nm3002376</td>\n",
       "    </tr>\n",
       "    <tr>\n",
       "      <th>51</th>\n",
       "      <td>Cleopatra</td>\n",
       "      <td>Drama,History</td>\n",
       "      <td>nm0309130</td>\n",
       "      <td>5.1</td>\n",
       "      <td>536</td>\n",
       "      <td>nm0906610,nm0306947,nm0801774,nm0276160,nm0733...</td>\n",
       "    </tr>\n",
       "    <tr>\n",
       "      <th>52</th>\n",
       "      <td>Dante's Inferno</td>\n",
       "      <td>Adventure,Drama,Fantasy</td>\n",
       "      <td>nm0078205,nm0655824,nm0209738</td>\n",
       "      <td>7.0</td>\n",
       "      <td>2988</td>\n",
       "      <td>nm0660139,nm0685283,nm0209738,nm3942815</td>\n",
       "    </tr>\n",
       "    <tr>\n",
       "      <th>55</th>\n",
       "      <td>From the Manger to the Cross</td>\n",
       "      <td>Biography,Drama</td>\n",
       "      <td>nm0646058</td>\n",
       "      <td>5.8</td>\n",
       "      <td>596</td>\n",
       "      <td>nm0446092,nm0087381,nm0245769,nm0310155,nm0391...</td>\n",
       "    </tr>\n",
       "    <tr>\n",
       "      <th>61</th>\n",
       "      <td>Passion</td>\n",
       "      <td>Biography,Drama,Romance</td>\n",
       "      <td>nm0523932</td>\n",
       "      <td>6.6</td>\n",
       "      <td>911</td>\n",
       "      <td>nm0624470,nm0417837,nm0509573,nm0903235</td>\n",
       "    </tr>\n",
       "    <tr>\n",
       "      <th>...</th>\n",
       "      <td>...</td>\n",
       "      <td>...</td>\n",
       "      <td>...</td>\n",
       "      <td>...</td>\n",
       "      <td>...</td>\n",
       "      <td>...</td>\n",
       "    </tr>\n",
       "    <tr>\n",
       "      <th>219222</th>\n",
       "      <td>Ott Tänak: The Movie</td>\n",
       "      <td>Documentary,Sport</td>\n",
       "      <td>nm4942142</td>\n",
       "      <td>8.1</td>\n",
       "      <td>488</td>\n",
       "      <td>NaN</td>\n",
       "    </tr>\n",
       "    <tr>\n",
       "      <th>219223</th>\n",
       "      <td>Ottam</td>\n",
       "      <td>Drama</td>\n",
       "      <td>nm10533890</td>\n",
       "      <td>6.6</td>\n",
       "      <td>566</td>\n",
       "      <td>nm10533891,nm10379526,nm8166767,nm4425773</td>\n",
       "    </tr>\n",
       "    <tr>\n",
       "      <th>219224</th>\n",
       "      <td>Pengalila</td>\n",
       "      <td>Drama</td>\n",
       "      <td>nm0151535</td>\n",
       "      <td>8.0</td>\n",
       "      <td>678</td>\n",
       "      <td>nm0482309,nm7785804,nm4710376,nm1230844</td>\n",
       "    </tr>\n",
       "    <tr>\n",
       "      <th>219232</th>\n",
       "      <td>Manoharam</td>\n",
       "      <td>Comedy,Drama</td>\n",
       "      <td>nm7011994</td>\n",
       "      <td>6.8</td>\n",
       "      <td>831</td>\n",
       "      <td>nm2068971,nm10375007,nm7243877,nm1428724</td>\n",
       "    </tr>\n",
       "    <tr>\n",
       "      <th>219234</th>\n",
       "      <td>The Cursed</td>\n",
       "      <td>Fantasy,Horror,Mystery</td>\n",
       "      <td>nm1193346</td>\n",
       "      <td>6.2</td>\n",
       "      <td>11360</td>\n",
       "      <td>nm2933542,nm0717709,nm0677944,nm3646923</td>\n",
       "    </tr>\n",
       "  </tbody>\n",
       "</table>\n",
       "<p>44112 rows × 6 columns</p>\n",
       "</div>"
      ],
      "text/plain": [
       "                        primaryTitle                      genres  \\\n",
       "2        The Story of the Kelly Gang  Action,Adventure,Biography   \n",
       "51                         Cleopatra               Drama,History   \n",
       "52                   Dante's Inferno     Adventure,Drama,Fantasy   \n",
       "55      From the Manger to the Cross             Biography,Drama   \n",
       "61                           Passion     Biography,Drama,Romance   \n",
       "...                              ...                         ...   \n",
       "219222          Ott Tänak: The Movie           Documentary,Sport   \n",
       "219223                         Ottam                       Drama   \n",
       "219224                     Pengalila                       Drama   \n",
       "219232                     Manoharam                Comedy,Drama   \n",
       "219234                    The Cursed      Fantasy,Horror,Mystery   \n",
       "\n",
       "                            directors  averageRating  numVotes  \\\n",
       "2                           nm0846879            6.0       797   \n",
       "51                          nm0309130            5.1       536   \n",
       "52      nm0078205,nm0655824,nm0209738            7.0      2988   \n",
       "55                          nm0646058            5.8       596   \n",
       "61                          nm0523932            6.6       911   \n",
       "...                               ...            ...       ...   \n",
       "219222                      nm4942142            8.1       488   \n",
       "219223                     nm10533890            6.6       566   \n",
       "219224                      nm0151535            8.0       678   \n",
       "219232                      nm7011994            6.8       831   \n",
       "219234                      nm1193346            6.2     11360   \n",
       "\n",
       "                                                   actors  \n",
       "2                 nm0846887,nm0846894,nm1431224,nm3002376  \n",
       "51      nm0906610,nm0306947,nm0801774,nm0276160,nm0733...  \n",
       "52                nm0660139,nm0685283,nm0209738,nm3942815  \n",
       "55      nm0446092,nm0087381,nm0245769,nm0310155,nm0391...  \n",
       "61                nm0624470,nm0417837,nm0509573,nm0903235  \n",
       "...                                                   ...  \n",
       "219222                                                NaN  \n",
       "219223          nm10533891,nm10379526,nm8166767,nm4425773  \n",
       "219224            nm0482309,nm7785804,nm4710376,nm1230844  \n",
       "219232           nm2068971,nm10375007,nm7243877,nm1428724  \n",
       "219234            nm2933542,nm0717709,nm0677944,nm3646923  \n",
       "\n",
       "[44112 rows x 6 columns]"
      ]
     },
     "execution_count": 15,
     "metadata": {},
     "output_type": "execute_result"
    }
   ],
   "source": [
    "# apply filters to reduce dataset\n",
    "df_clean = df_above5[df_above5['numVotes'] >= 300]\n",
    "df_clean"
   ]
  },
  {
   "cell_type": "code",
   "execution_count": 16,
   "metadata": {},
   "outputs": [
    {
     "name": "stderr",
     "output_type": "stream",
     "text": [
      "/tmp/ipykernel_5416/1086593639.py:2: SettingWithCopyWarning: \n",
      "A value is trying to be set on a copy of a slice from a DataFrame.\n",
      "Try using .loc[row_indexer,col_indexer] = value instead\n",
      "\n",
      "See the caveats in the documentation: https://pandas.pydata.org/pandas-docs/stable/user_guide/indexing.html#returning-a-view-versus-a-copy\n",
      "  df_clean['genres'] = df_clean['genres'].astype(\"string\")\n",
      "/tmp/ipykernel_5416/1086593639.py:3: SettingWithCopyWarning: \n",
      "A value is trying to be set on a copy of a slice from a DataFrame.\n",
      "Try using .loc[row_indexer,col_indexer] = value instead\n",
      "\n",
      "See the caveats in the documentation: https://pandas.pydata.org/pandas-docs/stable/user_guide/indexing.html#returning-a-view-versus-a-copy\n",
      "  df_clean['directors'] = df_clean['directors'].astype(\"string\")\n",
      "/tmp/ipykernel_5416/1086593639.py:4: SettingWithCopyWarning: \n",
      "A value is trying to be set on a copy of a slice from a DataFrame.\n",
      "Try using .loc[row_indexer,col_indexer] = value instead\n",
      "\n",
      "See the caveats in the documentation: https://pandas.pydata.org/pandas-docs/stable/user_guide/indexing.html#returning-a-view-versus-a-copy\n",
      "  df_clean['actors'] = df_clean['actors'].astype(\"string\")\n"
     ]
    }
   ],
   "source": [
    "# convert data types\n",
    "df_clean['genres'] = df_clean['genres'].astype(\"string\")\n",
    "df_clean['directors'] = df_clean['directors'].astype(\"string\")\n",
    "df_clean['actors'] = df_clean['actors'].astype(\"string\")"
   ]
  },
  {
   "cell_type": "code",
   "execution_count": 17,
   "metadata": {},
   "outputs": [
    {
     "data": {
      "text/plain": [
       "primaryTitle      object\n",
       "genres            string\n",
       "directors         string\n",
       "averageRating    float64\n",
       "numVotes           int64\n",
       "actors            string\n",
       "dtype: object"
      ]
     },
     "execution_count": 17,
     "metadata": {},
     "output_type": "execute_result"
    }
   ],
   "source": [
    "df_clean.dtypes"
   ]
  },
  {
   "cell_type": "code",
   "execution_count": 18,
   "metadata": {},
   "outputs": [
    {
     "data": {
      "text/plain": [
       "(44112, 6)"
      ]
     },
     "execution_count": 18,
     "metadata": {},
     "output_type": "execute_result"
    }
   ],
   "source": [
    "df_clean.shape"
   ]
  },
  {
   "cell_type": "markdown",
   "metadata": {},
   "source": [
    "## Data processing"
   ]
  },
  {
   "cell_type": "code",
   "execution_count": 19,
   "metadata": {},
   "outputs": [],
   "source": [
    "# Function to convert all strings to lower case and strip names of spaces\n",
    "def clean_data(x):\n",
    "    if isinstance(x, list):\n",
    "        return [str.lower(i.replace(\" \", \"\")) for i in x]\n",
    "    else:\n",
    "        #Check if director exists. If not, return empty string\n",
    "        if isinstance(x, str):\n",
    "            return str.lower(x.replace(\" \", \"\"))\n",
    "        else:\n",
    "            return ''"
   ]
  },
  {
   "cell_type": "code",
   "execution_count": 20,
   "metadata": {},
   "outputs": [
    {
     "name": "stderr",
     "output_type": "stream",
     "text": [
      "/tmp/ipykernel_5416/750215797.py:5: SettingWithCopyWarning: \n",
      "A value is trying to be set on a copy of a slice from a DataFrame.\n",
      "Try using .loc[row_indexer,col_indexer] = value instead\n",
      "\n",
      "See the caveats in the documentation: https://pandas.pydata.org/pandas-docs/stable/user_guide/indexing.html#returning-a-view-versus-a-copy\n",
      "  df_clean[feature] = df_clean[feature].apply(clean_data)\n"
     ]
    }
   ],
   "source": [
    "# Apply clean_data function to your features.\n",
    "features = ['directors', 'genres', 'actors']\n",
    "\n",
    "for feature in features:\n",
    "    df_clean[feature] = df_clean[feature].apply(clean_data)"
   ]
  },
  {
   "cell_type": "code",
   "execution_count": 21,
   "metadata": {},
   "outputs": [],
   "source": [
    "def create_soup(x):\n",
    "    return ' '.join(x['directors']) + ' ,' + ' '.join(x['genres']) + ' ,' + ' '.join(x['actors'])"
   ]
  },
  {
   "cell_type": "code",
   "execution_count": 22,
   "metadata": {},
   "outputs": [
    {
     "name": "stderr",
     "output_type": "stream",
     "text": [
      "/tmp/ipykernel_5416/2773241301.py:2: SettingWithCopyWarning: \n",
      "A value is trying to be set on a copy of a slice from a DataFrame.\n",
      "Try using .loc[row_indexer,col_indexer] = value instead\n",
      "\n",
      "See the caveats in the documentation: https://pandas.pydata.org/pandas-docs/stable/user_guide/indexing.html#returning-a-view-versus-a-copy\n",
      "  df_clean['soup'] = df_clean.apply(create_soup, axis=1)\n"
     ]
    }
   ],
   "source": [
    "# Create a new soup column representing the features\n",
    "df_clean['soup'] = df_clean.apply(create_soup, axis=1)\n"
   ]
  },
  {
   "cell_type": "code",
   "execution_count": 23,
   "metadata": {},
   "outputs": [
    {
     "data": {
      "text/plain": [
       "2         n m 0 8 4 6 8 7 9 ,a c t i o n , a d v e n t u...\n",
       "51        n m 0 3 0 9 1 3 0 ,d r a m a , h i s t o r y ,...\n",
       "52        n m 0 0 7 8 2 0 5 , n m 0 6 5 5 8 2 4 , n m 0 ...\n",
       "55        n m 0 6 4 6 0 5 8 ,b i o g r a p h y , d r a m...\n",
       "61        n m 0 5 2 3 9 3 2 ,b i o g r a p h y , d r a m...\n",
       "                                ...                        \n",
       "219222    n m 4 9 4 2 1 4 2 ,d o c u m e n t a r y , s p...\n",
       "219223    n m 1 0 5 3 3 8 9 0 ,d r a m a ,n m 1 0 5 3 3 ...\n",
       "219224    n m 0 1 5 1 5 3 5 ,d r a m a ,n m 0 4 8 2 3 0 ...\n",
       "219232    n m 7 0 1 1 9 9 4 ,c o m e d y , d r a m a ,n ...\n",
       "219234    n m 1 1 9 3 3 4 6 ,f a n t a s y , h o r r o r...\n",
       "Name: soup, Length: 44112, dtype: object"
      ]
     },
     "execution_count": 23,
     "metadata": {},
     "output_type": "execute_result"
    }
   ],
   "source": [
    "df_clean['soup'].head()\n",
    "df_clean['soup']"
   ]
  },
  {
   "cell_type": "code",
   "execution_count": 24,
   "metadata": {},
   "outputs": [
    {
     "name": "stderr",
     "output_type": "stream",
     "text": [
      "/tmp/ipykernel_5416/105095674.py:5: SettingWithCopyWarning: \n",
      "A value is trying to be set on a copy of a slice from a DataFrame.\n",
      "Try using .loc[row_indexer,col_indexer] = value instead\n",
      "\n",
      "See the caveats in the documentation: https://pandas.pydata.org/pandas-docs/stable/user_guide/indexing.html#returning-a-view-versus-a-copy\n",
      "  df_clean[feature] = df_clean[feature].apply(clean_data)\n"
     ]
    }
   ],
   "source": [
    "# clean the soup column\n",
    "features = ['soup']\n",
    "\n",
    "for feature in features:\n",
    "    df_clean[feature] = df_clean[feature].apply(clean_data)"
   ]
  },
  {
   "cell_type": "code",
   "execution_count": 25,
   "metadata": {},
   "outputs": [
    {
     "name": "stdout",
     "output_type": "stream",
     "text": [
      "2         nm0846879,action,adventure,biography,nm0846887...\n",
      "51        nm0309130,drama,history,nm0906610,nm0306947,nm...\n",
      "52        nm0078205,nm0655824,nm0209738,adventure,drama,...\n",
      "55        nm0646058,biography,drama,nm0446092,nm0087381,...\n",
      "61        nm0523932,biography,drama,romance,nm0624470,nm...\n",
      "                                ...                        \n",
      "219222                         nm4942142,documentary,sport,\n",
      "219223    nm10533890,drama,nm10533891,nm10379526,nm81667...\n",
      "219224    nm0151535,drama,nm0482309,nm7785804,nm4710376,...\n",
      "219232    nm7011994,comedy,drama,nm2068971,nm10375007,nm...\n",
      "219234    nm1193346,fantasy,horror,mystery,nm2933542,nm0...\n",
      "Name: soup, Length: 44112, dtype: object\n"
     ]
    }
   ],
   "source": [
    "print(df_clean['soup'])"
   ]
  },
  {
   "cell_type": "code",
   "execution_count": 26,
   "metadata": {},
   "outputs": [
    {
     "name": "stderr",
     "output_type": "stream",
     "text": [
      "/tmp/ipykernel_5416/2337589423.py:2: SettingWithCopyWarning: \n",
      "A value is trying to be set on a copy of a slice from a DataFrame.\n",
      "Try using .loc[row_indexer,col_indexer] = value instead\n",
      "\n",
      "See the caveats in the documentation: https://pandas.pydata.org/pandas-docs/stable/user_guide/indexing.html#returning-a-view-versus-a-copy\n",
      "  df_clean['soup'] = df_clean['soup'].replace(',', ' ', regex=True)\n"
     ]
    }
   ],
   "source": [
    "# Function to convert all strings to lower case and strip names of spaces\n",
    "df_clean['soup'] = df_clean['soup'].replace(',', ' ', regex=True)"
   ]
  },
  {
   "cell_type": "code",
   "execution_count": 27,
   "metadata": {},
   "outputs": [
    {
     "data": {
      "text/plain": [
       "(44112, 7)"
      ]
     },
     "execution_count": 27,
     "metadata": {},
     "output_type": "execute_result"
    }
   ],
   "source": [
    "df_clean.shape"
   ]
  },
  {
   "cell_type": "code",
   "execution_count": 28,
   "metadata": {},
   "outputs": [
    {
     "name": "stderr",
     "output_type": "stream",
     "text": [
      "/tmp/ipykernel_5416/291099518.py:2: SettingWithCopyWarning: \n",
      "A value is trying to be set on a copy of a slice from a DataFrame.\n",
      "Try using .loc[row_indexer,col_indexer] = value instead\n",
      "\n",
      "See the caveats in the documentation: https://pandas.pydata.org/pandas-docs/stable/user_guide/indexing.html#returning-a-view-versus-a-copy\n",
      "  df_clean['primaryTitle'] = df_clean['primaryTitle'].astype(\"string\")\n"
     ]
    }
   ],
   "source": [
    "# convert data types\n",
    "df_clean['primaryTitle'] = df_clean['primaryTitle'].astype(\"string\")"
   ]
  },
  {
   "cell_type": "code",
   "execution_count": 29,
   "metadata": {},
   "outputs": [],
   "source": [
    "df_clean = df_clean.reset_index()"
   ]
  },
  {
   "cell_type": "code",
   "execution_count": 30,
   "metadata": {},
   "outputs": [
    {
     "data": {
      "text/plain": [
       "index              int64\n",
       "primaryTitle      string\n",
       "genres            object\n",
       "directors         object\n",
       "averageRating    float64\n",
       "numVotes           int64\n",
       "actors            object\n",
       "soup              object\n",
       "dtype: object"
      ]
     },
     "execution_count": 30,
     "metadata": {},
     "output_type": "execute_result"
    }
   ],
   "source": [
    "df_clean.dtypes"
   ]
  },
  {
   "cell_type": "markdown",
   "metadata": {},
   "source": [
    "## Create 1 vector for each movie and calculate their similarities"
   ]
  },
  {
   "cell_type": "code",
   "execution_count": 31,
   "metadata": {},
   "outputs": [],
   "source": [
    "# Import CountVectorizer and one vector per movie for the soup column\n",
    "count = CountVectorizer(stop_words='english')\n",
    "count_matrix = count.fit_transform(df_clean['soup'])"
   ]
  },
  {
   "cell_type": "code",
   "execution_count": 32,
   "metadata": {},
   "outputs": [
    {
     "data": {
      "text/plain": [
       "scipy.sparse._csr.csr_matrix"
      ]
     },
     "execution_count": 32,
     "metadata": {},
     "output_type": "execute_result"
    }
   ],
   "source": [
    "type(count_matrix)"
   ]
  },
  {
   "cell_type": "code",
   "execution_count": 33,
   "metadata": {},
   "outputs": [
    {
     "data": {
      "text/plain": [
       "<1x89963 sparse matrix of type '<class 'numpy.int64'>'\n",
       "\twith 8 stored elements in Compressed Sparse Row format>"
      ]
     },
     "execution_count": 33,
     "metadata": {},
     "output_type": "execute_result"
    }
   ],
   "source": [
    "count_matrix[0]"
   ]
  },
  {
   "cell_type": "code",
   "execution_count": 34,
   "metadata": {},
   "outputs": [
    {
     "data": {
      "text/plain": [
       "(44112, 89963)"
      ]
     },
     "execution_count": 34,
     "metadata": {},
     "output_type": "execute_result"
    }
   ],
   "source": [
    "count_matrix.shape"
   ]
  },
  {
   "cell_type": "code",
   "execution_count": 35,
   "metadata": {},
   "outputs": [
    {
     "data": {
      "text/plain": [
       "44112"
      ]
     },
     "execution_count": 35,
     "metadata": {},
     "output_type": "execute_result"
    }
   ],
   "source": [
    "nbr_movies = count_matrix.shape[0]\n",
    "nbr_movies"
   ]
  },
  {
   "cell_type": "code",
   "execution_count": 36,
   "metadata": {},
   "outputs": [
    {
     "data": {
      "text/plain": [
       "<1x44112 sparse matrix of type '<class 'numpy.int64'>'\n",
       "\twith 10842 stored elements in Compressed Sparse Row format>"
      ]
     },
     "execution_count": 36,
     "metadata": {},
     "output_type": "execute_result"
    }
   ],
   "source": [
    "count_matrix[0].dot(count_matrix.T)"
   ]
  },
  {
   "cell_type": "code",
   "execution_count": 37,
   "metadata": {},
   "outputs": [],
   "source": [
    "#test_array = np.empty([nbr_movies, nbr_movies])\n",
    "#\n",
    "#for vector in count_matrix:\n",
    "#    result_vector = vector.dot(count_matrix.T).toarray()\n",
    "#    np.concatenate((test_array, result_vector), axis=0)"
   ]
  },
  {
   "cell_type": "code",
   "execution_count": 38,
   "metadata": {},
   "outputs": [],
   "source": [
    "#len(test_list)"
   ]
  },
  {
   "cell_type": "code",
   "execution_count": 39,
   "metadata": {},
   "outputs": [],
   "source": [
    "#vector1 = test_list[0]\n",
    "#vector1"
   ]
  },
  {
   "cell_type": "code",
   "execution_count": 40,
   "metadata": {},
   "outputs": [],
   "source": [
    "#test_list[0][0]"
   ]
  },
  {
   "cell_type": "code",
   "execution_count": 41,
   "metadata": {},
   "outputs": [],
   "source": [
    "#test_array = np.array(test_list)\n",
    "#test_array"
   ]
  },
  {
   "cell_type": "code",
   "execution_count": 42,
   "metadata": {},
   "outputs": [],
   "source": [
    "#test_array"
   ]
  },
  {
   "cell_type": "code",
   "execution_count": 43,
   "metadata": {},
   "outputs": [],
   "source": [
    "#squeezed_array = np.squeeze(test_array)"
   ]
  },
  {
   "cell_type": "code",
   "execution_count": 44,
   "metadata": {},
   "outputs": [],
   "source": [
    "#squeezed_array"
   ]
  },
  {
   "cell_type": "code",
   "execution_count": 45,
   "metadata": {},
   "outputs": [],
   "source": [
    "#Compute the Cosine Similarity matrix for every vector\n",
    "#similarities_array = np.empty([nbr_movies, nbr_movies])\n",
    "#\n",
    "#for vector in count_matrix:\n",
    "#    result_vector = vector.dot(count_matrix.T).toarray()\n",
    "#    np.concatenate((similarities_array, result_vector), axis=0)"
   ]
  },
  {
   "cell_type": "code",
   "execution_count": 46,
   "metadata": {},
   "outputs": [],
   "source": [
    "# Compute the Cosine Similarity matrix for every vector\n",
    "#similarities_list = []\n",
    "#for vector in count_matrix:\n",
    "#    similarities_list.append(vector.dot(count_matrix.T).todense()[0])\n",
    "    #.argsort())    "
   ]
  },
  {
   "cell_type": "code",
   "execution_count": 47,
   "metadata": {},
   "outputs": [],
   "source": [
    "#similarities_list[0:3]"
   ]
  },
  {
   "cell_type": "code",
   "execution_count": 48,
   "metadata": {},
   "outputs": [],
   "source": [
    "#np.squeeze(np.array(similarities_list[0]))"
   ]
  },
  {
   "cell_type": "code",
   "execution_count": 49,
   "metadata": {},
   "outputs": [],
   "source": [
    "#similarities_array = np.array(similarities_list[0])\n",
    "#similarities = np.squeeze(similarities_array)\n",
    "#similarities"
   ]
  },
  {
   "cell_type": "code",
   "execution_count": 50,
   "metadata": {},
   "outputs": [],
   "source": [
    "#print(type(similarities))\n",
    "#print(similarities.shape)\n",
    "#print(similarities)"
   ]
  },
  {
   "cell_type": "code",
   "execution_count": 51,
   "metadata": {},
   "outputs": [],
   "source": [
    "# Function that takes in a list of movie titles as input and outputs 10 most similar movies\n",
    "#def get_recommendations_list(liked_movies_list, cosine_sim=similarities_list):\n",
    "#    # Get the index of the movie that matches the title\n",
    "#    \n",
    "#    movie_id_list=[]\n",
    "#    for movie_title in liked_movies_list:\n",
    "#        \n",
    "#        movie_id = df_clean.index[df_clean['primaryTitle'] == movie_title]\n",
    "#        movie_id_list.append(movie_id[0])\n",
    "#\n",
    "#    df_sim_list=pd.DataFrame()\n",
    "#    print(movie_id_list)\n",
    "#    for movie_id in movie_id_list:\n",
    "#        sim_scores = np.squeeze(np.array(cosine_sim[movie_id]))\n",
    "#        df_sim=pd.DataFrame(sim_scores.reshape(-1),columns=[movie_id])\n",
    "#        df_sim_list[movie_id]=df_sim\n",
    "#\n",
    "#    df_sim_list['average']=df_sim_list.mean(numeric_only=True, axis=1)\n",
    "#\n",
    "#    rslt_df = df_sim_list.sort_values(by='average',ascending=False)\n",
    "#\n",
    "#    # print(rslt_df[0:11])\n",
    "#    rec_list=rslt_df.reset_index()\n",
    "#    list1=[]\n",
    "#    list1=rec_list['index'][len(liked_movies_list):(len(liked_movies_list)+10)].values\n",
    "#\n",
    "#    # Return the top 10 most similar movies\n",
    "#    return df_clean[['primaryTitle', 'genres']].iloc[list1]\n"
   ]
  },
  {
   "cell_type": "code",
   "execution_count": 52,
   "metadata": {},
   "outputs": [],
   "source": [
    "# Function that takes in a list of movie titles as input and outputs most similar movies ON THE FLY\n",
    "def get_recommendations_list(liked_movies_list, similar_movies=10, vectorized_count_matrix=count_matrix):\n",
    "    # Get the index of the movies that matches the title\n",
    "    movie_id_list=[]\n",
    "    for movie_title in liked_movies_list:\n",
    "        movie_id = df_clean.index[df_clean['primaryTitle'] == movie_title]\n",
    "        movie_id_list.append(movie_id[0])\n",
    "\n",
    "    df_sim_list=pd.DataFrame()\n",
    "    print(movie_id_list)\n",
    "    for movie_id in movie_id_list:\n",
    "        vector = vectorized_count_matrix[movie_id]\n",
    "        simil = vector.dot(count_matrix.T).todense()[0]\n",
    "        sim_scores = np.squeeze(np.array(simil))\n",
    "        df_sim=pd.DataFrame(sim_scores.reshape(-1),columns=[movie_id])\n",
    "        df_sim_list[movie_id]=df_sim\n",
    "\n",
    "    df_sim_list['average']=df_sim_list.mean(numeric_only=True, axis=1)\n",
    "\n",
    "    rslt_df = df_sim_list.sort_values(by='average',ascending=False)\n",
    "\n",
    "    # print(rslt_df[0:11])\n",
    "    rec_list=rslt_df.reset_index()\n",
    "    list1=[]\n",
    "    list1=rec_list['index'][len(liked_movies_list):(len(liked_movies_list)+similar_movies)].values\n",
    "\n",
    "    # Return the top 10 most similar movies\n",
    "    return df_clean[['primaryTitle', 'genres']].iloc[list1]\n"
   ]
  },
  {
   "cell_type": "code",
   "execution_count": 61,
   "metadata": {},
   "outputs": [
    {
     "name": "stdout",
     "output_type": "stream",
     "text": [
      "[2747, 9449, 10039]\n",
      "                            primaryTitle                     genres\n",
      "42371  Apollo 10½: A Space Age Childhood  adventure,animation,drama\n",
      "28084                              Belle  adventure,animation,drama\n",
      "32583                 Big Fish & Begonia  adventure,animation,drama\n",
      "7072                             The BFG  adventure,animation,drama\n",
      "26069                     A Whisker Away  adventure,animation,drama\n",
      "29959                      Drifting Home  adventure,animation,drama\n",
      "4641                    The Last Unicorn  adventure,animation,drama\n",
      "4266               The Fox and the Hound  adventure,animation,drama\n",
      "31725                  The Little Prince  adventure,animation,drama\n",
      "41348             The Summit of the Gods  adventure,animation,drama\n"
     ]
    }
   ],
   "source": [
    "liked_movies_list=['The Little Mermaid','The Lion King', 'Pocahontas']\n",
    "\n",
    "recommendations = get_recommendations_list(liked_movies_list)\n",
    "print(recommendations)"
   ]
  }
 ],
 "metadata": {
  "kernelspec": {
   "display_name": "Python 3.10.6 ('venv': venv)",
   "language": "python",
   "name": "python3"
  },
  "language_info": {
   "codemirror_mode": {
    "name": "ipython",
    "version": 3
   },
   "file_extension": ".py",
   "mimetype": "text/x-python",
   "name": "python",
   "nbconvert_exporter": "python",
   "pygments_lexer": "ipython3",
   "version": "3.10.6"
  },
  "orig_nbformat": 4,
  "vscode": {
   "interpreter": {
    "hash": "b11276c3a543d9859b6dbc11da7634481824fc7a9002fc62915bc2ca215f4cc0"
   }
  }
 },
 "nbformat": 4,
 "nbformat_minor": 2
}
